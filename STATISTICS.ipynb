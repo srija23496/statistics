{
 "cells": [
  {
   "cell_type": "code",
   "execution_count": 1,
   "id": "2da4735d-1bee-4079-8caa-b5cef362e87a",
   "metadata": {},
   "outputs": [],
   "source": [
    "#Q1  >>> Generate a list of 100 integers containing values between 90 to R30 and store it in the variable `int_list'.\n",
    "# After generating the list, find the following:"
   ]
  },
  {
   "cell_type": "code",
   "execution_count": 2,
   "id": "c1b38bbf-afde-46f5-8058-0dd518c5b8f3",
   "metadata": {},
   "outputs": [
    {
     "name": "stdout",
     "output_type": "stream",
     "text": [
      "Requirement already satisfied: statsmodels in /opt/conda/lib/python3.10/site-packages (0.13.5)\n",
      "Requirement already satisfied: packaging>=21.3 in /opt/conda/lib/python3.10/site-packages (from statsmodels) (22.0)\n",
      "Requirement already satisfied: patsy>=0.5.2 in /opt/conda/lib/python3.10/site-packages (from statsmodels) (0.5.3)\n",
      "Requirement already satisfied: numpy>=1.17 in /opt/conda/lib/python3.10/site-packages (from statsmodels) (1.23.5)\n",
      "Requirement already satisfied: scipy>=1.3 in /opt/conda/lib/python3.10/site-packages (from statsmodels) (1.9.3)\n",
      "Requirement already satisfied: pandas>=0.25 in /opt/conda/lib/python3.10/site-packages (from statsmodels) (1.5.2)\n",
      "Requirement already satisfied: python-dateutil>=2.8.1 in /opt/conda/lib/python3.10/site-packages (from pandas>=0.25->statsmodels) (2.8.2)\n",
      "Requirement already satisfied: pytz>=2020.1 in /opt/conda/lib/python3.10/site-packages (from pandas>=0.25->statsmodels) (2022.6)\n",
      "Requirement already satisfied: six in /opt/conda/lib/python3.10/site-packages (from patsy>=0.5.2->statsmodels) (1.16.0)\n",
      "Note: you may need to restart the kernel to use updated packages.\n"
     ]
    }
   ],
   "source": [
    "pip install statsmodels"
   ]
  },
  {
   "cell_type": "code",
   "execution_count": 3,
   "id": "85840eea-d3f7-4861-be01-1e7f2caada52",
   "metadata": {},
   "outputs": [
    {
     "data": {
      "text/plain": [
       "array([ 90, 122, 104, 102,  92, 128,  99,  95,  91,  91,  95,  92,  91,\n",
       "        92,  99, 105, 103, 108,  94, 114, 111, 127,  95, 112,  90,  98,\n",
       "       118, 123,  97,  98, 120, 125, 102, 125, 121,  98, 125, 100,  92,\n",
       "       110, 117, 109, 128, 112, 107, 109, 115,  95, 106, 121, 114, 118,\n",
       "       120, 109, 121,  94, 110, 101, 118, 122,  90,  92,  98, 116, 103,\n",
       "       114, 100, 117, 108, 125, 126, 122, 125, 125, 100,  97, 103,  95,\n",
       "        92,  92,  92, 111,  92, 107, 114, 111,  96,  95, 122, 123, 128,\n",
       "        91, 111, 102, 118, 107, 106,  93,  94, 125])"
      ]
     },
     "execution_count": 3,
     "metadata": {},
     "output_type": "execute_result"
    }
   ],
   "source": [
    "import numpy as np\n",
    "import pandas as pd\n",
    "import statistics as stats\n",
    "import math\n",
    "import matplotlib.pyplot as plt\n",
    "import seaborn as sns\n",
    "int_list=np.random.randint(90,130,100)\n",
    "int_list"
   ]
  },
  {
   "cell_type": "code",
   "execution_count": 4,
   "id": "452e4be3-2d4e-4624-95ea-b7b0c6547cef",
   "metadata": {},
   "outputs": [],
   "source": [
    "# (1) >> Write a Python function to calculate the mean of a given list of numbers.\n",
    "#Create a function to find the median of a list of numbers."
   ]
  },
  {
   "cell_type": "code",
   "execution_count": 5,
   "id": "cf615f76-5d5b-4ddf-8bb7-a3d3c87c284e",
   "metadata": {},
   "outputs": [
    {
     "data": {
      "text/plain": [
       "(107, 107.0)"
      ]
     },
     "execution_count": 5,
     "metadata": {},
     "output_type": "execute_result"
    }
   ],
   "source": [
    "def find(int_list):\n",
    "    mean=stats.mean(int_list)\n",
    "    median=stats.median(int_list)\n",
    "    return mean,median\n",
    "find(int_list)"
   ]
  },
  {
   "cell_type": "code",
   "execution_count": 6,
   "id": "b6d79b32-db50-4a42-80a5-c66a1abb38db",
   "metadata": {},
   "outputs": [],
   "source": [
    "# (2) >>  Develop a program to compute the mode of a list of integers.\n",
    "def mode(int_list):\n",
    "    mode=stats.mode(int_list)\n",
    "    return mode"
   ]
  },
  {
   "cell_type": "code",
   "execution_count": 7,
   "id": "62edc03e-b64c-4659-936b-0412069f14f1",
   "metadata": {},
   "outputs": [
    {
     "data": {
      "text/plain": [
       "92"
      ]
     },
     "execution_count": 7,
     "metadata": {},
     "output_type": "execute_result"
    }
   ],
   "source": [
    "mode(int_list)"
   ]
  },
  {
   "cell_type": "code",
   "execution_count": 8,
   "id": "4a7babdf-f1c5-4df3-97f1-0fa6e3fe00b7",
   "metadata": {},
   "outputs": [],
   "source": [
    "# (3) implement a function to calculate the weighted mean of a list of values and their corresponding weights."
   ]
  },
  {
   "cell_type": "code",
   "execution_count": 9,
   "id": "c3ddda17-7dbd-4650-8597-a518e075501e",
   "metadata": {},
   "outputs": [
    {
     "data": {
      "text/plain": [
       "array([ 90, 122, 104, 102,  92, 128,  99,  95,  91,  91,  95,  92,  91,\n",
       "        92,  99, 105, 103, 108,  94, 114, 111, 127,  95, 112,  90,  98,\n",
       "       118, 123,  97,  98, 120, 125, 102, 125, 121,  98, 125, 100,  92,\n",
       "       110, 117, 109, 128, 112, 107, 109, 115,  95, 106, 121, 114, 118,\n",
       "       120, 109, 121,  94, 110, 101, 118, 122,  90,  92,  98, 116, 103,\n",
       "       114, 100, 117, 108, 125, 126, 122, 125, 125, 100,  97, 103,  95,\n",
       "        92,  92,  92, 111,  92, 107, 114, 111,  96,  95, 122, 123, 128,\n",
       "        91, 111, 102, 118, 107, 106,  93,  94, 125])"
      ]
     },
     "execution_count": 9,
     "metadata": {},
     "output_type": "execute_result"
    }
   ],
   "source": [
    "data = np.array(int_list)\n",
    "data"
   ]
  },
  {
   "cell_type": "code",
   "execution_count": 10,
   "id": "2b1d2451-07d2-4cba-ab81-9dc24a8616d1",
   "metadata": {},
   "outputs": [],
   "source": [
    "def weighted_mean(values,weights):\n",
    "    if len(values) != len(weights):\n",
    "        raise valueError(\"the length of values and weight should be equal\")\n",
    "    weighted_sum=sum(value*weight for value, weight in zip(values,weights))\n",
    "    total_weights=sum(weights)\n",
    "    return weighted_sum"
   ]
  },
  {
   "cell_type": "code",
   "execution_count": 11,
   "id": "68250d1d-fc7c-4257-bca1-de7ae7ece3f2",
   "metadata": {},
   "outputs": [
    {
     "data": {
      "text/plain": [
       "30"
      ]
     },
     "execution_count": 11,
     "metadata": {},
     "output_type": "execute_result"
    }
   ],
   "source": [
    "weighted_mean([1,2,3,4,5],[2,2,2,2,2])"
   ]
  },
  {
   "cell_type": "code",
   "execution_count": 12,
   "id": "ad59f87f-fe0c-4851-a64c-8e405d2012ae",
   "metadata": {},
   "outputs": [],
   "source": [
    "import math"
   ]
  },
  {
   "cell_type": "code",
   "execution_count": 13,
   "id": "fd0ea138-7a69-46e4-8bfe-69f3a5ea89c3",
   "metadata": {},
   "outputs": [],
   "source": [
    "#(4) >>>> Write a Python function to find the geometric mean of a list of positive numbers"
   ]
  },
  {
   "cell_type": "code",
   "execution_count": 14,
   "id": "38f33be2-3af9-4943-af33-e40dde6a4a00",
   "metadata": {},
   "outputs": [
    {
     "name": "stdout",
     "output_type": "stream",
     "text": [
      "Geometric mean: 2.605171084697352\n"
     ]
    }
   ],
   "source": [
    "import math\n",
    "\n",
    "def geometric_mean(values):\n",
    "    if not values:\n",
    "        raise ValueError(\"The list of values is empty.\")\n",
    "    \n",
    "    if any(value <= 0 for value in values):\n",
    "        raise ValueError(\"All values must be positive.\")\n",
    "\n",
    "    product = math.prod(values)\n",
    "    n = len(values)\n",
    "    \n",
    "    return product ** (1/n)\n",
    "\n",
    "\n",
    "values = [1, 2, 3, 4, 5]\n",
    "print(\"Geometric mean:\", geometric_mean(values))\n"
   ]
  },
  {
   "cell_type": "code",
   "execution_count": 15,
   "id": "1cfb4a34-944f-4810-8e95-9cbccab0e735",
   "metadata": {},
   "outputs": [],
   "source": [
    "# (5) Create a program to calculate the harmonic mean of a list of values."
   ]
  },
  {
   "cell_type": "code",
   "execution_count": 16,
   "id": "7eba878c-45cf-42f6-8932-fe4236b7a034",
   "metadata": {},
   "outputs": [],
   "source": [
    "def harmonic_mean(values):\n",
    "    if not values:\n",
    "        raise valueErroe(\"the list values is empty\")\n",
    "    n=len(values)\n",
    "    sumission_recipocal=sum(1/value for value in values)\n",
    "    return n/sumission_recipocal"
   ]
  },
  {
   "cell_type": "code",
   "execution_count": 17,
   "id": "3c48e267-26f6-4c2e-9999-669fb8dd4b34",
   "metadata": {},
   "outputs": [
    {
     "data": {
      "text/plain": [
       "4.1930116472545755"
      ]
     },
     "execution_count": 17,
     "metadata": {},
     "output_type": "execute_result"
    }
   ],
   "source": [
    "harmonic_mean([2,5,7,9])"
   ]
  },
  {
   "cell_type": "code",
   "execution_count": 18,
   "id": "972b5470-5a6b-46e5-a122-96116f4bb1b0",
   "metadata": {},
   "outputs": [],
   "source": [
    "#(6) >>> Build a function to determine the midrange of a list of numbers (average of the minimum and maximum)."
   ]
  },
  {
   "cell_type": "code",
   "execution_count": 19,
   "id": "2b33a6a8-b539-446e-a8fd-6ebc1038e827",
   "metadata": {},
   "outputs": [
    {
     "data": {
      "text/plain": [
       "109.0"
      ]
     },
     "execution_count": 19,
     "metadata": {},
     "output_type": "execute_result"
    }
   ],
   "source": [
    "def midrange(values):\n",
    "    x=max(values)\n",
    "    y=min(values)\n",
    "    return (x+y)/2\n",
    "midrange(data)"
   ]
  },
  {
   "cell_type": "code",
   "execution_count": 20,
   "id": "74d1dd17-cd41-4de4-8933-f137946bca11",
   "metadata": {},
   "outputs": [],
   "source": [
    "# (7) Implement a Python program to find the trimmed mean of a list, excluding a certain percentage of outliers."
   ]
  },
  {
   "cell_type": "code",
   "execution_count": 21,
   "id": "9acaf404-8755-4771-a1ff-21dba7d8f19d",
   "metadata": {},
   "outputs": [
    {
     "data": {
      "text/plain": [
       "106.45"
      ]
     },
     "execution_count": 21,
     "metadata": {},
     "output_type": "execute_result"
    }
   ],
   "source": [
    "from scipy.stats import trim_mean\n",
    "t_m = trim_mean(int_list, 0.4)\n",
    "t_m  # Here t_m notatiom is used for trimmed mean"
   ]
  },
  {
   "cell_type": "code",
   "execution_count": 22,
   "id": "fe40b562-496c-4056-b9e1-e28615093e57",
   "metadata": {},
   "outputs": [],
   "source": [
    "# 2. Generate a list of 500 integers containing values between 200 to 300 and store it in the variable `int_list2`.\n",
    "# After generating the list, find the following:"
   ]
  },
  {
   "cell_type": "code",
   "execution_count": 23,
   "id": "8d171f9d-b2e6-463d-a6de-291f152ccfbe",
   "metadata": {},
   "outputs": [],
   "source": [
    "int_list2 = np.random.randint(200,300,500)"
   ]
  },
  {
   "cell_type": "code",
   "execution_count": 24,
   "id": "bb40b1d8-d5ed-4f2f-978e-d7f6bfaf97f3",
   "metadata": {},
   "outputs": [
    {
     "data": {
      "text/plain": [
       "500"
      ]
     },
     "execution_count": 24,
     "metadata": {},
     "output_type": "execute_result"
    }
   ],
   "source": [
    "len(int_list2)  # we generate a list of 500 integer verified by the length of list"
   ]
  },
  {
   "cell_type": "code",
   "execution_count": 25,
   "id": "5d5ef8f4-8302-4f0b-a7e5-9d60d4b337d4",
   "metadata": {},
   "outputs": [
    {
     "data": {
      "image/png": "[encoded data removed]",
      "text/plain": [
       "<Figure size 640x480 with 1 Axes>"
      ]
     },
     "metadata": {},
     "output_type": "display_data"
    }
   ],
   "source": [
    "# (i) Compare the given list of visualization for the given data:\n",
    "from scipy.stats import norm\n",
    "\n",
    "#   1. Frequency & Gaussian distribution\n",
    "\n",
    "  # to see the frequency we can use histogram\n",
    "sns.histplot(int_list2) # Frequency of set of numbers\n",
    "mu , std = norm.fit(int_list2)\n",
    "xmin , xmax = plt.xlim()\n",
    "x = np.linspace(xmin , xmax , 100)\n",
    "p = norm.pdf(x , mu , std )\n",
    "plt.plot(x , p , 'k' , linewidth = 2)\n",
    "\n",
    "plt.title('histogram and guassian distribution')\n",
    "plt.xlabel('value')\n",
    "plt.ylabel('density')\n",
    "plt.show()\n"
   ]
  },
  {
   "cell_type": "code",
   "execution_count": 26,
   "id": "0b9d0f99-6ae2-47fa-815b-9479b7505650",
   "metadata": {},
   "outputs": [],
   "source": [
    "#  2. Frequency smoothened KDE plot "
   ]
  },
  {
   "cell_type": "code",
   "execution_count": 27,
   "id": "cf01c833-8e1e-4110-9874-a100e09a370a",
   "metadata": {},
   "outputs": [
    {
     "data": {
      "text/plain": [
       "<seaborn.axisgrid.FacetGrid at 0x742ee9784d30>"
      ]
     },
     "execution_count": 27,
     "metadata": {},
     "output_type": "execute_result"
    },
    {
     "data": {
      "image/png": "[encoded data removed]",
      "text/plain": [
       "<Figure size 500x500 with 1 Axes>"
      ]
     },
     "metadata": {},
     "output_type": "display_data"
    }
   ],
   "source": [
    "sns.displot(int_list2 ,kde = True)  # "
   ]
  },
  {
   "cell_type": "code",
   "execution_count": 28,
   "id": "4c1ebc82-ba52-483c-965a-33ffae8eea00",
   "metadata": {},
   "outputs": [
    {
     "data": {
      "text/plain": [
       "<seaborn.axisgrid.FacetGrid at 0x742ee1399d20>"
      ]
     },
     "execution_count": 28,
     "metadata": {},
     "output_type": "execute_result"
    },
    {
     "data": {
      "image/png": "[encoded data removed]",
      "text/plain": [
       "<Figure size 640x480 with 1 Axes>"
      ]
     },
     "metadata": {},
     "output_type": "display_data"
    },
    {
     "data": {
      "image/png": "[encoded data removed]",
      "text/plain": [
       "<Figure size 500x500 with 1 Axes>"
      ]
     },
     "metadata": {},
     "output_type": "display_data"
    }
   ],
   "source": [
    "#  3. Gaussian distribution & smoothened KDE plot\n",
    "mu , std = norm.fit(int_list2)\n",
    "xmin , xmax = plt.xlim()\n",
    "x = np.linspace(xmin , xmax , 100)\n",
    "p = norm.pdf(x , mu , std )\n",
    "plt.plot(x , p , 'k' , linewidth = 2)\n",
    "\n",
    "sns.displot(int_list2 ,kde = True) "
   ]
  },
  {
   "cell_type": "code",
   "execution_count": 29,
   "id": "d4901d2e-9f5e-4638-bf9f-9e8cf14025e0",
   "metadata": {},
   "outputs": [
    {
     "data": {
      "text/plain": [
       "'the range is (299, 200)'"
      ]
     },
     "execution_count": 29,
     "metadata": {},
     "output_type": "execute_result"
    }
   ],
   "source": [
    "#   (ii) Write a Python function to calculate the range of a given list of numbers\n",
    "def cal_range(list_given):\n",
    "    list1 = list(list_given)\n",
    "    x = max(list1)\n",
    "    y = min(list1)\n",
    "    return f\"the range is {x ,y}\"\n",
    "cal_range(int_list2)"
   ]
  },
  {
   "cell_type": "code",
   "execution_count": 30,
   "id": "6ff42e48-3753-4f8b-a63a-de9d14b9cde2",
   "metadata": {},
   "outputs": [
    {
     "data": {
      "text/plain": [
       "'the standard deviation is 28.235789771139746 and the covariance is 797.259824'"
      ]
     },
     "execution_count": 30,
     "metadata": {},
     "output_type": "execute_result"
    }
   ],
   "source": [
    "# (iii) Create a program to find the variance and standard deviation of a list of numbers.\n",
    "\n",
    "\n",
    "def cal_info(given_list):\n",
    "    list2 = list(given_list)\n",
    "    std = np.std(list2)\n",
    "    var = np.var(list2)\n",
    "    return f\"the standard deviation is {std} and the covariance is {var}\"\n",
    "cal_info(int_list2)"
   ]
  },
  {
   "cell_type": "code",
   "execution_count": 31,
   "id": "05fe0bba-3883-4ccf-97b4-2e332c7edd2b",
   "metadata": {},
   "outputs": [
    {
     "data": {
      "text/plain": [
       "'the IQR is 0.15999999999999992'"
      ]
     },
     "execution_count": 31,
     "metadata": {},
     "output_type": "execute_result"
    }
   ],
   "source": [
    "# (iv) Implement a function to compute the interquartile range (IQR) of a list of values.\n",
    "# as we know IQR = Q3 - Q1\n",
    "def cal_iqr(list_1):\n",
    "    list2 = list(list_1)\n",
    "    Q1 = np.percentile(list2 , 0.25)\n",
    "    Q3 = np.percentile(list2 , 0.75)\n",
    "    IQR = Q3 - Q1\n",
    "    return f\"the IQR is {IQR}\"\n",
    "cal_iqr([1,2,3,4,4,5,6,7,5,44,3,3,4,55,4,3,34,5,6,5,4,64,5,4,4,3,4,54,4,3,4,3,3])"
   ]
  },
  {
   "cell_type": "code",
   "execution_count": 32,
   "id": "c9c88311-799c-46dd-bc22-d2d5ba1ce876",
   "metadata": {},
   "outputs": [
    {
     "data": {
      "text/plain": [
       "' the coefficient of variation is 406.57532226210077'"
      ]
     },
     "execution_count": 32,
     "metadata": {},
     "output_type": "execute_result"
    }
   ],
   "source": [
    "#  (v) Build a program to calculate the coefficient of variation for a dataset.\n",
    "def coeff_var(list_new):\n",
    "    list3 = list(list_new)\n",
    "    mean = np.mean(list3)\n",
    "    std =  np.std(list3)\n",
    "    return f\" the coefficient of variation is {(std*100)/(mean)}\"\n",
    "coeff_var([1,2,3,3,4,4,5,5,64,4,33,4,33,3,44,4,5434,4,4])"
   ]
  },
  {
   "cell_type": "code",
   "execution_count": 33,
   "id": "4a9a01b6-4c7d-4eb2-b700-7e82b26a115c",
   "metadata": {},
   "outputs": [],
   "source": [
    "#  (vi) Write a Python function to find the mean absolute deviation (MAD) of a list of numbers.\n",
    "def cal_mad(list1):\n",
    "    if len(list1) == 0 :\n",
    "        return 0 \n",
    "    mean = sum(list1)/len(list1)\n",
    "    deviation = [abs(x - mean) for x in data]\n",
    "    mad = sum(deviation)/len(deviation)\n",
    "    return f\"the mean absolute deviation is {mad}\""
   ]
  },
  {
   "cell_type": "code",
   "execution_count": 34,
   "id": "b1b35962-b9dd-479a-b6a2-fbe197605f99",
   "metadata": {},
   "outputs": [
    {
     "data": {
      "text/plain": [
       "'the mean absolute deviation is 101.9925'"
      ]
     },
     "execution_count": 34,
     "metadata": {},
     "output_type": "execute_result"
    }
   ],
   "source": [
    "cal_mad([1,4,6,7,8,4,5,6,7,4,5,4,6,7,8,1])"
   ]
  },
  {
   "cell_type": "code",
   "execution_count": 35,
   "id": "74374a96-24d1-4150-b599-a370b8084ef5",
   "metadata": {},
   "outputs": [
    {
     "data": {
      "text/plain": [
       "'The quartile deviation is 0.07500000000000007'"
      ]
     },
     "execution_count": 35,
     "metadata": {},
     "output_type": "execute_result"
    }
   ],
   "source": [
    " # (vii) Create a program to calculate the quartile deviation of a list of values.\n",
    "# The half of the interquartile range is called quartile deviation\n",
    "def quar_dev(list4):\n",
    "    Q1 = np.percentile(list4 , 0.25)\n",
    "    Q3 = np.percentile(list4 , 0.75)\n",
    "    IQR = Q3 - Q1\n",
    "    return f\"The quartile deviation is {(IQR/2)}\"\n",
    "quar_dev([1,3,4,5,6,6,67,7,55,5,56,5,7,7,8,66])"
   ]
  },
  {
   "cell_type": "code",
   "execution_count": 36,
   "id": "b167f49e-26da-4c15-94e2-14b3e1d333b4",
   "metadata": {},
   "outputs": [],
   "source": [
    "# (viii) Implement a function to find the range-based coefficient of dispersion for a dataset"
   ]
  },
  {
   "cell_type": "code",
   "execution_count": 37,
   "id": "8b81d287-b83e-4181-bb5e-1df931a5e90a",
   "metadata": {},
   "outputs": [],
   "source": [
    "# Range based coefficient is range/mean"
   ]
  },
  {
   "cell_type": "code",
   "execution_count": 38,
   "id": "9e6da397-dbc9-4b71-bed0-384fb03b0697",
   "metadata": {},
   "outputs": [
    {
     "data": {
      "text/plain": [
       "'The RBC is [11.47368421])'"
      ]
     },
     "execution_count": 38,
     "metadata": {},
     "output_type": "execute_result"
    }
   ],
   "source": [
    "def RBC(list5):\n",
    "    range = [ max(list5) - min(list5) ]\n",
    "    mean = np.mean(list5)\n",
    "    return f\"The RBC is {range/mean})\"\n",
    "RBC([1,3,4,5,6,6,655,5,4,33,4,5,64,4,56])"
   ]
  },
  {
   "cell_type": "code",
   "execution_count": 39,
   "id": "8d250225-876c-44ce-8573-3d64a8980853",
   "metadata": {},
   "outputs": [],
   "source": [
    "# 3)  Write a Python class representing a discrete random variable with methods to calculate its expected\n",
    "#   value and variance."
   ]
  },
  {
   "cell_type": "code",
   "execution_count": 40,
   "id": "ff8f2742-0b17-4bdb-a692-a6fc0d7aba14",
   "metadata": {},
   "outputs": [
    {
     "name": "stdout",
     "output_type": "stream",
     "text": [
      "The expected_values is 3.2 and the variance is 1.56\n"
     ]
    }
   ],
   "source": [
    "class DescreteRandomVariable :\n",
    "    def __init__(self,values,probability):\n",
    "        if len(values) != len(probability):\n",
    "            raise ValueError\n",
    "        if sum(probability) != 1 :\n",
    "            raise ValueError\n",
    "            \n",
    "        self.values = values\n",
    "        self.probability = probability\n",
    "        \n",
    "        \n",
    "    def expected_values(self):\n",
    "        return sum(v * p for v , p in zip(self.values , self.probability))\n",
    "    \n",
    "    \n",
    "    def variance(self):\n",
    "        mean = self.expected_values()\n",
    "        return sum((v - mean) ** 2 * p for v, p in zip(self.values, self.probability))\n",
    "values = [1, 2, 3, 4, 5]\n",
    "probability = [0.1, 0.2, 0.3, 0.2, 0.2]\n",
    "\n",
    "random_var = DescreteRandomVariable(values, probability)\n",
    "print(f\"The expected_values is {random_var.expected_values()} and the variance is {random_var.variance()}\")"
   ]
  },
  {
   "cell_type": "code",
   "execution_count": 41,
   "id": "9c2a8024-0453-438f-9528-f04b768bc994",
   "metadata": {},
   "outputs": [],
   "source": [
    "# Implement a program to simulate the rolling of a fair six-sided die and calculate the expected value and\n",
    "#  variance of the outcomes"
   ]
  },
  {
   "cell_type": "code",
   "execution_count": 42,
   "id": "294f54d9-2aae-403e-a690-3d2796debbe4",
   "metadata": {},
   "outputs": [],
   "source": [
    "class RollingDice :\n",
    "    def __init__(self , values , probability):\n",
    "        if len(values) != len(probability):\n",
    "            raise ValueError\n",
    "        if sum(probability) != 1 :\n",
    "            raise ValueError\n",
    "        \n",
    "        self.values = values\n",
    "        self.probability = probability\n",
    "        \n",
    "    def expected_value(self):\n",
    "        return sum(v * p for v,p in zip(self.values,self.probability))\n",
    "    \n",
    "    def variance(self) :\n",
    "        mean = self.expected_value()\n",
    "        return sum((v - mean) ** 2 * p for v, p in zip(self.values, self.probability))\n",
    "        "
   ]
  },
  {
   "cell_type": "code",
   "execution_count": 43,
   "id": "378ec51d-9589-4c50-907b-bffa816ec44f",
   "metadata": {},
   "outputs": [
    {
     "name": "stdout",
     "output_type": "stream",
     "text": [
      "The expected_values is 3.502 and the variance is 2.9199960000000003\n"
     ]
    }
   ],
   "source": [
    "values = [1, 2, 3, 4, 5, 6]\n",
    "probability = [0.167, 0.166, 0.166, 0.167, 0.167 , 0.167]\n",
    "\n",
    "random_var = RollingDice(values, probability)\n",
    "print(f\"The expected_values is {random_var.expected_value()} and the variance is {random_var.variance()}\")"
   ]
  },
  {
   "cell_type": "code",
   "execution_count": 44,
   "id": "8c91216f-97d1-4a0a-a39f-31b7de87478d",
   "metadata": {},
   "outputs": [
    {
     "data": {
      "text/plain": [
       "'The mean is 1.5 and The variance is 1.05'"
      ]
     },
     "execution_count": 44,
     "metadata": {},
     "output_type": "execute_result"
    }
   ],
   "source": [
    "# 5. Create a Python function to generate random samples from a given probability distribution (e.g.,\n",
    "# binomial, Poisson) and calculate their mean and variance.\n",
    "def genrate_dist(a,b):\n",
    "    gen_poisson = np.random.poisson(a,b)\n",
    "    mean_poisson = np.mean(gen_poisson)\n",
    "    variance_poisson = np.var(gen_poisson)\n",
    "    return f\"The mean is {mean_poisson} and The variance is {variance_poisson}\"\n",
    "genrate_dist(1,10)"
   ]
  },
  {
   "cell_type": "code",
   "execution_count": 45,
   "id": "e62aa508-d7ed-4402-ba5d-28f7f665e77d",
   "metadata": {},
   "outputs": [],
   "source": [
    "#6 . Write a Python script to generate random numbers from a Gaussian (normal) distribution and compute\n",
    "# the mean, variance, and standard deviation of the samples.\n",
    "def gen_guass(a,b):\n",
    "    guass_dist = np.random.normal(a,b)\n",
    "    mean = np.mean(guass_dist)\n",
    "    variance = np.var(guass_dist)\n",
    "    standard_dev = np.std(guass_dist)\n",
    "    return f\"The mean is {mean} ,the variance is {variance} and the standard deviation is {standard_dev}\""
   ]
  },
  {
   "cell_type": "code",
   "execution_count": 46,
   "id": "26bd62ed-811c-43c0-99cc-ed5c54bd645a",
   "metadata": {},
   "outputs": [
    {
     "data": {
      "text/plain": [
       "'The mean is -4.203002276599486 ,the variance is 0.0 and the standard deviation is 0.0'"
      ]
     },
     "execution_count": 46,
     "metadata": {},
     "output_type": "execute_result"
    }
   ],
   "source": [
    "gen_guass(1,10)"
   ]
  },
  {
   "cell_type": "code",
   "execution_count": 47,
   "id": "57d58ca6-c887-4132-9858-0dbbdf388247",
   "metadata": {},
   "outputs": [
    {
     "data": {
      "text/html": [
       "<div>\n",
       "<style scoped>\n",
       "    .dataframe tbody tr th:only-of-type {\n",
       "        vertical-align: middle;\n",
       "    }\n",
       "\n",
       "    .dataframe tbody tr th {\n",
       "        vertical-align: top;\n",
       "    }\n",
       "\n",
       "    .dataframe thead th {\n",
       "        text-align: right;\n",
       "    }\n",
       "</style>\n",
       "<table border=\"1\" class=\"dataframe\">\n",
       "  <thead>\n",
       "    <tr style=\"text-align: right;\">\n",
       "      <th></th>\n",
       "      <th>total_bill</th>\n",
       "      <th>tip</th>\n",
       "      <th>sex</th>\n",
       "      <th>smoker</th>\n",
       "      <th>day</th>\n",
       "      <th>time</th>\n",
       "      <th>size</th>\n",
       "    </tr>\n",
       "  </thead>\n",
       "  <tbody>\n",
       "    <tr>\n",
       "      <th>0</th>\n",
       "      <td>16.99</td>\n",
       "      <td>1.01</td>\n",
       "      <td>Female</td>\n",
       "      <td>No</td>\n",
       "      <td>Sun</td>\n",
       "      <td>Dinner</td>\n",
       "      <td>2</td>\n",
       "    </tr>\n",
       "    <tr>\n",
       "      <th>1</th>\n",
       "      <td>10.34</td>\n",
       "      <td>1.66</td>\n",
       "      <td>Male</td>\n",
       "      <td>No</td>\n",
       "      <td>Sun</td>\n",
       "      <td>Dinner</td>\n",
       "      <td>3</td>\n",
       "    </tr>\n",
       "    <tr>\n",
       "      <th>2</th>\n",
       "      <td>21.01</td>\n",
       "      <td>3.50</td>\n",
       "      <td>Male</td>\n",
       "      <td>No</td>\n",
       "      <td>Sun</td>\n",
       "      <td>Dinner</td>\n",
       "      <td>3</td>\n",
       "    </tr>\n",
       "    <tr>\n",
       "      <th>3</th>\n",
       "      <td>23.68</td>\n",
       "      <td>3.31</td>\n",
       "      <td>Male</td>\n",
       "      <td>No</td>\n",
       "      <td>Sun</td>\n",
       "      <td>Dinner</td>\n",
       "      <td>2</td>\n",
       "    </tr>\n",
       "    <tr>\n",
       "      <th>4</th>\n",
       "      <td>24.59</td>\n",
       "      <td>3.61</td>\n",
       "      <td>Female</td>\n",
       "      <td>No</td>\n",
       "      <td>Sun</td>\n",
       "      <td>Dinner</td>\n",
       "      <td>4</td>\n",
       "    </tr>\n",
       "    <tr>\n",
       "      <th>...</th>\n",
       "      <td>...</td>\n",
       "      <td>...</td>\n",
       "      <td>...</td>\n",
       "      <td>...</td>\n",
       "      <td>...</td>\n",
       "      <td>...</td>\n",
       "      <td>...</td>\n",
       "    </tr>\n",
       "    <tr>\n",
       "      <th>239</th>\n",
       "      <td>29.03</td>\n",
       "      <td>5.92</td>\n",
       "      <td>Male</td>\n",
       "      <td>No</td>\n",
       "      <td>Sat</td>\n",
       "      <td>Dinner</td>\n",
       "      <td>3</td>\n",
       "    </tr>\n",
       "    <tr>\n",
       "      <th>240</th>\n",
       "      <td>27.18</td>\n",
       "      <td>2.00</td>\n",
       "      <td>Female</td>\n",
       "      <td>Yes</td>\n",
       "      <td>Sat</td>\n",
       "      <td>Dinner</td>\n",
       "      <td>2</td>\n",
       "    </tr>\n",
       "    <tr>\n",
       "      <th>241</th>\n",
       "      <td>22.67</td>\n",
       "      <td>2.00</td>\n",
       "      <td>Male</td>\n",
       "      <td>Yes</td>\n",
       "      <td>Sat</td>\n",
       "      <td>Dinner</td>\n",
       "      <td>2</td>\n",
       "    </tr>\n",
       "    <tr>\n",
       "      <th>242</th>\n",
       "      <td>17.82</td>\n",
       "      <td>1.75</td>\n",
       "      <td>Male</td>\n",
       "      <td>No</td>\n",
       "      <td>Sat</td>\n",
       "      <td>Dinner</td>\n",
       "      <td>2</td>\n",
       "    </tr>\n",
       "    <tr>\n",
       "      <th>243</th>\n",
       "      <td>18.78</td>\n",
       "      <td>3.00</td>\n",
       "      <td>Female</td>\n",
       "      <td>No</td>\n",
       "      <td>Thur</td>\n",
       "      <td>Dinner</td>\n",
       "      <td>2</td>\n",
       "    </tr>\n",
       "  </tbody>\n",
       "</table>\n",
       "<p>244 rows × 7 columns</p>\n",
       "</div>"
      ],
      "text/plain": [
       "     total_bill   tip     sex smoker   day    time  size\n",
       "0         16.99  1.01  Female     No   Sun  Dinner     2\n",
       "1         10.34  1.66    Male     No   Sun  Dinner     3\n",
       "2         21.01  3.50    Male     No   Sun  Dinner     3\n",
       "3         23.68  3.31    Male     No   Sun  Dinner     2\n",
       "4         24.59  3.61  Female     No   Sun  Dinner     4\n",
       "..          ...   ...     ...    ...   ...     ...   ...\n",
       "239       29.03  5.92    Male     No   Sat  Dinner     3\n",
       "240       27.18  2.00  Female    Yes   Sat  Dinner     2\n",
       "241       22.67  2.00    Male    Yes   Sat  Dinner     2\n",
       "242       17.82  1.75    Male     No   Sat  Dinner     2\n",
       "243       18.78  3.00  Female     No  Thur  Dinner     2\n",
       "\n",
       "[244 rows x 7 columns]"
      ]
     },
     "execution_count": 47,
     "metadata": {},
     "output_type": "execute_result"
    }
   ],
   "source": [
    "# 7 .Use seaborn library to load tips dataset. Find the following from the dataset for the columns total_bill\n",
    "#  and tip:\n",
    "data = sns.load_dataset(\"tips\")\n",
    "data"
   ]
  },
  {
   "cell_type": "code",
   "execution_count": 48,
   "id": "a188b9f8-889c-469e-8885-df537f19efe5",
   "metadata": {},
   "outputs": [
    {
     "data": {
      "text/plain": [
       "0      1.01\n",
       "1      1.66\n",
       "2      3.50\n",
       "3      3.31\n",
       "4      3.61\n",
       "       ... \n",
       "239    5.92\n",
       "240    2.00\n",
       "241    2.00\n",
       "242    1.75\n",
       "243    3.00\n",
       "Name: tip, Length: 244, dtype: float64"
      ]
     },
     "execution_count": 48,
     "metadata": {},
     "output_type": "execute_result"
    }
   ],
   "source": [
    "# (i) Write a Python function that calculates their skewness.\n",
    "data1 = data[\"tip\"]\n",
    "data1"
   ]
  },
  {
   "cell_type": "code",
   "execution_count": 49,
   "id": "842e66c2-f8fb-4887-aafe-b541b356befd",
   "metadata": {},
   "outputs": [
    {
     "data": {
      "text/plain": [
       "1.4654510370979388"
      ]
     },
     "execution_count": 49,
     "metadata": {},
     "output_type": "execute_result"
    }
   ],
   "source": [
    "def cal_skewness(data1):\n",
    "    n = len(data1)\n",
    "    if n<3 :\n",
    "        raise ValueError\n",
    "        \n",
    "    mean = np.mean(data1)\n",
    "    st_dev = np.std(data1 , ddof =1)\n",
    "    \n",
    "    skewness = ( n / ((n-1) * (n-2))) * sum(((x - mean) / st_dev) **3 for x in data1)\n",
    "    return skewness\n",
    "cal_skewness(data1)"
   ]
  },
  {
   "cell_type": "code",
   "execution_count": 50,
   "id": "56dba7a7-32da-40bb-bd25-93e68ebe45ef",
   "metadata": {},
   "outputs": [
    {
     "data": {
      "text/plain": [
       "'poitive skewness'"
      ]
     },
     "execution_count": 50,
     "metadata": {},
     "output_type": "execute_result"
    }
   ],
   "source": [
    "# (ii) Create a program that determines whether the columns exhibit positive skewness, negative skewness, or s\n",
    "#  approximately symmetric\n",
    "def cal_skewness(data1):\n",
    "    n = len(data1)\n",
    "    if n<3 :\n",
    "        raise ValueError\n",
    "        \n",
    "    mean = np.mean(data1)\n",
    "    st_dev = np.std(data1 , ddof =1)\n",
    "    \n",
    "    skewness = ( n / ((n-1) * (n-2))) * sum(((x - mean) / st_dev) **3 for x in data1)\n",
    "    if skewness < 0 :\n",
    "        return \"negative skewness\"\n",
    "    elif skewness == 0 :\n",
    "        return \"approx skewness\"\n",
    "    else :\n",
    "        return \"poitive skewness\"\n",
    "cal_skewness(data1)"
   ]
  },
  {
   "cell_type": "code",
   "execution_count": 51,
   "id": "458b31f1-7363-4429-94c8-7d5095b5dcdf",
   "metadata": {},
   "outputs": [
    {
     "data": {
      "text/plain": [
       "array([[ 1.91445464,  8.32350163],\n",
       "       [ 8.32350163, 79.25293861]])"
      ]
     },
     "execution_count": 51,
     "metadata": {},
     "output_type": "execute_result"
    }
   ],
   "source": [
    "# (iii) Write a function that calculates the covariance between two columns.\n",
    "def cal_cov(a , b):\n",
    "    covariance = np.cov(a , b)\n",
    "    return covariance\n",
    "    \n",
    "cal_cov(data['tip'],data['total_bill'])"
   ]
  },
  {
   "cell_type": "code",
   "execution_count": 52,
   "id": "6ae548e3-1c69-4516-b14e-49449795424c",
   "metadata": {},
   "outputs": [
    {
     "data": {
      "text/plain": [
       "array([[1.        , 0.67573411],\n",
       "       [0.67573411, 1.        ]])"
      ]
     },
     "execution_count": 52,
     "metadata": {},
     "output_type": "execute_result"
    }
   ],
   "source": [
    "#(iv) Impliment a python program that calculates the pearson correlation coefficient between two columns.\n",
    "correlation = np.corrcoef(data['total_bill'],data['tip'])\n",
    "correlation"
   ]
  },
  {
   "cell_type": "code",
   "execution_count": 53,
   "id": "ecb6440d-13ba-46a5-a9e2-231a4d2822dd",
   "metadata": {},
   "outputs": [
    {
     "data": {
      "image/png": "[encoded data removed]",
      "text/plain": [
       "<Figure size 1000x800 with 1 Axes>"
      ]
     },
     "metadata": {},
     "output_type": "display_data"
    }
   ],
   "source": [
    "#(v) Write a script to visualize the correlation between two specific columns in a Pandas DataFrame using\n",
    "#  scatter plots.\n",
    "import seaborn as sns\n",
    "plt.figure(figsize = (10,8))\n",
    "sns.scatterplot( x = data['total_bill'] , y = data['tip'] , data = data , color = 'red')\n",
    "plt.title('scatter plot of X vs Y ')\n",
    "plt.show()"
   ]
  },
  {
   "cell_type": "code",
   "execution_count": 54,
   "id": "dacde3eb-6513-4533-a085-e9aacb2681b4",
   "metadata": {},
   "outputs": [
    {
     "data": {
      "text/plain": [
       "'The pdf value is 0.009961097852369101'"
      ]
     },
     "execution_count": 54,
     "metadata": {},
     "output_type": "execute_result"
    }
   ],
   "source": [
    "#(8) Write a Python function to calculate the probability density function (PDF) of a continuous random\n",
    "#variable for a given normal distribution.\n",
    "from scipy.stats import norm\n",
    "def cal_pdf( x , mean , std_dev):\n",
    "    pdf_value = norm.pdf( x , mean , std_dev)\n",
    "    return f\"The pdf value is {pdf_value}\"\n",
    "cal_pdf( 10 , 8 , 40 )  # here we take x = 10 , mean = 8 , std_dev = 40"
   ]
  },
  {
   "cell_type": "code",
   "execution_count": 55,
   "id": "63ea33e2-7e4c-48fa-baff-501c8ebda81d",
   "metadata": {},
   "outputs": [
    {
     "data": {
      "text/plain": [
       "'the cdf value is 0.9932620530009145'"
      ]
     },
     "execution_count": 55,
     "metadata": {},
     "output_type": "execute_result"
    }
   ],
   "source": [
    "# (9) Create a program  to calculate the cumulative distribution function (CDF) of exponential distribution.\n",
    "from scipy.stats import expon\n",
    "def cal_cdf(x , rate_param):\n",
    "    cdf_value = expon.cdf( x , scale = 1/rate_param)\n",
    "    return f\"the cdf value is {cdf_value}\"\n",
    "cal_cdf( 10, 0.5)"
   ]
  },
  {
   "cell_type": "code",
   "execution_count": 56,
   "id": "fbb1d600-5b37-4603-942c-f92fdccc811a",
   "metadata": {},
   "outputs": [
    {
     "data": {
      "text/plain": [
       "'The  pmf is 9.144769890572445e-10'"
      ]
     },
     "execution_count": 56,
     "metadata": {},
     "output_type": "execute_result"
    }
   ],
   "source": [
    "#(10) . Write a Python function to calculate the probability mass function (PMF) of Poisson distribution.\n",
    "from scipy.stats import poisson\n",
    "def cal_pmf( x , lamda):\n",
    "    pmf_value = poisson.pmf( x , lamda)\n",
    "    return f\"The  pmf is {pmf_value}\"\n",
    "cal_pmf( 10,.6)"
   ]
  },
  {
   "cell_type": "code",
   "execution_count": 57,
   "id": "24552957-42e0-4432-bddb-f0398565f966",
   "metadata": {},
   "outputs": [],
   "source": [
    "# 11 .  A company wants to test iN a new website layout leads to a higher conversion rate (percentage oN visitors\n",
    "# who make a purchase). They collect data from the old and new layouts to compare\n",
    "# To generate the data use the following command:\n",
    "old_layout = np.array([1]*50 + [0]*950)\n",
    "new_layout = np.array([1]*70 + [0]* 930)"
   ]
  },
  {
   "cell_type": "code",
   "execution_count": 58,
   "id": "7538fb17-d212-486e-a519-2cb50bed8e83",
   "metadata": {},
   "outputs": [
    {
     "name": "stdout",
     "output_type": "stream",
     "text": [
      "Z-statistics : -1.8831\n",
      "p-value : 0.9702\n",
      "fail to reject the null hypothesis. The new layout does not lead to higher rate.\n"
     ]
    }
   ],
   "source": [
    "# Apply z-test to find which layout is successful.\n",
    "from statsmodels.stats.proportion import proportions_ztest\n",
    "\n",
    "sucess_old = np.sum(old_layout)\n",
    "success_new = np.sum(new_layout)\n",
    "\n",
    "\n",
    "n_old = len(old_layout)\n",
    "n_new = len(new_layout)\n",
    "\n",
    "count = np.array([sucess_old , success_new])\n",
    "nobs = np.array([n_old , n_new])\n",
    "\n",
    "z_stat , p_value = proportions_ztest(count , nobs , alternative = 'larger')\n",
    "\n",
    "\n",
    "print(f\"Z-statistics : {z_stat:.4f}\")\n",
    "print(f\"p-value : {p_value:.4f}\")\n",
    "\n",
    "alpha = 0.05\n",
    "if p_value < alpha :\n",
    "    print(\"Reject the null hypothesis. The new layout leads to higher rate. \")\n",
    "else:\n",
    "    print(\"fail to reject the null hypothesis. The new layout does not lead to higher rate.\")\n",
    "    "
   ]
  },
  {
   "cell_type": "code",
   "execution_count": 59,
   "id": "1afcec80-423e-447a-a022-bc09d3cc1892",
   "metadata": {},
   "outputs": [],
   "source": [
    "#12 . A tutoring service claims that its program improves students' exam scores. A sample of students who\n",
    "# participated in the program was taken, and their scores before and after the program were recorded.\n",
    "\n",
    "\n",
    "#Use the below code to generate samples of respective arrays of marks:\n",
    "\n",
    "# ```python\n",
    "\n",
    "before_program = np.array([75, 80, 85, 70, 90, 78, 92, 88, 82, 87])\n",
    "\n",
    "after_program = np.array([80, 85, 90, 80, 92, 80, 95, 90, 85, 88])\n",
    "\n",
    "\n",
    "\n",
    "#Use z-test to find if the claims made by tutor are true or false."
   ]
  },
  {
   "cell_type": "code",
   "execution_count": 60,
   "id": "18aac5c2-39fe-483e-8b6e-f2d59117bc6a",
   "metadata": {},
   "outputs": [
    {
     "name": "stdout",
     "output_type": "stream",
     "text": [
      "T-statistics: 4.8209\n",
      "P-value: 0.0005\n",
      "Reject the null hypothesis. The claim made by the tutor is true.\n"
     ]
    }
   ],
   "source": [
    "import numpy as np\n",
    "from scipy.stats import ttest_rel\n",
    "\n",
    "# Data: Scores before and after the program\n",
    "before_program = np.array([75, 80, 85, 70, 90, 78, 92, 88, 82, 87])\n",
    "after_program = np.array([80, 85, 90, 80, 92, 80, 95, 91, 85, 88])\n",
    "\n",
    "# Perform paired t-test\n",
    "t_stat, p_value = ttest_rel(after_program, before_program, alternative='greater')\n",
    "\n",
    "print(f\"T-statistics: {t_stat:.4f}\")\n",
    "print(f\"P-value: {p_value:.4f}\")\n",
    "\n",
    "# Significance level\n",
    "alpha = 0.05\n",
    "\n",
    "# Conclusion\n",
    "if p_value < alpha:\n",
    "    print(\"Reject the null hypothesis. The claim made by the tutor is true.\")\n",
    "else:\n",
    "    print(\"Fail to reject the null hypothesis. The claim made by the tutor is false.\")"
   ]
  },
  {
   "cell_type": "code",
   "execution_count": 61,
   "id": "5d1c349a-cdb5-47d4-b4e8-2055cbc77643",
   "metadata": {},
   "outputs": [],
   "source": [
    "#13 .A pharmaceutical company wants to determine if a new drug is effective in reducing blood pressure. They\n",
    "# conduct a study and record blood pressure measurements before and after administering the drug.\n",
    "\n",
    "\n",
    "# Use the below code to generate samples of respective arrays of blood pressure:\n",
    "\n",
    "\n",
    "# ```python\n",
    "\n",
    "before_drug = np.array([145, 150, 140, 135, 155, 160, 152, 148, 130, 138])\n",
    "\n",
    "after_drug = np.array([130, 140, 132, 128, 145, 148, 138, 136, 125, 130])\n",
    "\n",
    "# ```\n",
    "\n",
    "\n",
    "# Implement z-test to find if the drug really works or not."
   ]
  },
  {
   "cell_type": "code",
   "execution_count": 62,
   "id": "9cf2b7df-af4e-423d-8820-b72d341e4aaa",
   "metadata": {},
   "outputs": [
    {
     "name": "stdout",
     "output_type": "stream",
     "text": [
      "T-statistics: -10.0499\n",
      "P-value: 1.0000\n",
      "Fail to reject the null hypothesis. The drug is not working\n"
     ]
    }
   ],
   "source": [
    "import numpy as np\n",
    "from scipy.stats import ttest_rel\n",
    "\n",
    "before_drug = np.array([145, 150, 140, 135, 155, 160, 152, 148, 130, 138])\n",
    "\n",
    "after_drug = np.array([130, 140, 132, 128, 145, 148, 138, 136, 125, 130])\n",
    "\n",
    "\n",
    "t_stat, p_value = ttest_rel(after_drug,before_drug , alternative='greater')\n",
    "\n",
    "print(f\"T-statistics: {t_stat:.4f}\")\n",
    "print(f\"P-value: {p_value:.4f}\")\n",
    "\n",
    "alpha = 0.05\n",
    "\n",
    "if p_value < alpha:\n",
    "    print(\"Reject the null hypothesis. The drug is working\")\n",
    "else:\n",
    "    print(\"Fail to reject the null hypothesis. The drug is not working\")"
   ]
  },
  {
   "cell_type": "code",
   "execution_count": 63,
   "id": "9c593aff-b8af-4a54-a54b-0d971f11f1a4",
   "metadata": {},
   "outputs": [],
   "source": [
    "#14 .A customer service department claims that their average response time is less than 5 minutes A sample\n",
    "# of recent customer interactions was taken, and the response times were recorded.\n",
    "\n",
    "\n",
    "# Implement the below code to generate the array of response time:\n",
    "\n",
    "# ```python\n",
    "\n",
    "response_times = np.array([4.3, 3.8, 5.1, 4.9, 4.7, 4.2, 5.2, 4.5, 4.6, 4.4])\n",
    "\n",
    "# ```\n",
    "\n",
    "# Implement z-test to find the claims made by customer service department are true or false."
   ]
  },
  {
   "cell_type": "code",
   "execution_count": 64,
   "id": "e27f9e55-2bc7-42a6-a9a1-31547e89d0be",
   "metadata": {},
   "outputs": [
    {
     "name": "stdout",
     "output_type": "stream",
     "text": [
      "T-statistics : -3.1845\n",
      "p-value : 0.0056\n",
      "Reject the null hypothesis . The customer sevice claim is true\n"
     ]
    }
   ],
   "source": [
    "from scipy.stats import ttest_1samp\n",
    "response_times = np.array([4.3, 3.8, 5.1, 4.9, 4.7, 4.2, 5.2, 4.5, 4.6, 4.4])\n",
    "population_mean = 5\n",
    "t_stat , p_value = ttest_1samp(response_times , population_mean , alternative = 'less')\n",
    "\n",
    "print(f\"T-statistics : {t_stat:.4f}\")\n",
    "print(f\"p-value : {p_value:.4f}\")\n",
    "\n",
    "alpha = 0.05\n",
    "\n",
    "if p_value < alpha :\n",
    "    print(\"Reject the null hypothesis . The customer sevice claim is true\")\n",
    "else :\n",
    "    print(\"fail to reject the null hypothesis. The customer department claim is false\")"
   ]
  },
  {
   "cell_type": "code",
   "execution_count": 65,
   "id": "05ab7934-a174-42a4-87d7-aad71ae1acb8",
   "metadata": {},
   "outputs": [],
   "source": [
    "#1 . A company is testing two different website layouts to see which one leads to higher click-through ratesV\n",
    "#Write a Python function to perform an A/B test analysis, including calculating the t-statistic, degrees of\n",
    "#freedom, and p-value.\n",
    "\n",
    "\n",
    "#Use the following data:\n",
    "\n",
    "#```python\n",
    "\n",
    "layout_a_clicks = [28, 32, 33, 29, 31, 34, 30, 35, 36, 37]\n",
    "\n",
    "layout_b_clicks = [40, 41, 38, 42, 39, 44, 43, 41, 45, 47]"
   ]
  },
  {
   "cell_type": "code",
   "execution_count": 66,
   "id": "f6d8f2b3-ce19-4792-8ad2-b48eea72ce0b",
   "metadata": {},
   "outputs": [
    {
     "name": "stdout",
     "output_type": "stream",
     "text": [
      "T-statistic : -7.2981\n",
      "P-value : 1.0000\n",
      "Degree of freedom : 18\n",
      "Fail to reject the null hypothesis. There is no significant difference between Layout A and Layout B.\n"
     ]
    }
   ],
   "source": [
    "from scipy.stats import ttest_ind\n",
    "\n",
    "t_stat , p_value = ttest_ind(layout_a_clicks , layout_b_clicks , alternative ='greater')\n",
    "\n",
    "n_a = len(layout_a_clicks)\n",
    "n_b = len(layout_b_clicks)\n",
    "df = n_a + n_b - 2\n",
    "\n",
    "print(f\"T-statistic : {t_stat:.4f}\")\n",
    "print(f\"P-value : {p_value:.4f}\")\n",
    "print(f\"Degree of freedom : {df}\")\n",
    "\n",
    "alpha = 0.05\n",
    "\n",
    "if p_value < alpha:\n",
    "    print(\"Reject the null hypothesis. Layout B has higher click_through than layout A.\")\n",
    "else :\n",
    "    print(\"Fail to reject the null hypothesis. There is no significant difference between Layout A and Layout B.\")"
   ]
  },
  {
   "cell_type": "code",
   "execution_count": 67,
   "id": "91adc38b-2eae-4b23-8a06-97d6e893eb05",
   "metadata": {},
   "outputs": [],
   "source": [
    "#16. A pharmaceutical company wants to determine if a new drug is more effective than an existing drug in\n",
    "# reducing cholesterol levels. Create a program to analyze the clinical trial data and calculate the tstatistic and p-value for the treatment effect.\n",
    "\n",
    "\n",
    "#Use the following data of cholestrol level:\n",
    "\n",
    "#```python\n",
    "\n",
    "existing_drug_levels = [180, 182, 175, 185, 178, 176, 172, 184, 179, 183]\n",
    "\n",
    "new_drug_levels = [170, 172, 165, 168, 175, 173, 170, 178, 172, 176]"
   ]
  },
  {
   "cell_type": "code",
   "execution_count": 68,
   "id": "eb254b5a-5341-4ceb-9e58-5005d8f3194d",
   "metadata": {},
   "outputs": [
    {
     "name": "stdout",
     "output_type": "stream",
     "text": [
      "T-statistic : 4.1405\n",
      "P-value : 0.0003\n",
      "Reject the null hypothesis. the new drug is more effective\n"
     ]
    }
   ],
   "source": [
    "from scipy.stats import ttest_ind\n",
    "\n",
    "t_stat , p_value = ttest_ind(existing_drug_levels , new_drug_levels , alternative ='greater')\n",
    "\n",
    "print(f\"T-statistic : {t_stat:.4f}\")\n",
    "print(f\"P-value : {p_value:.4f}\")\n",
    "\n",
    "\n",
    "alpha = 0.05\n",
    "\n",
    "if p_value < alpha:\n",
    "    print(\"Reject the null hypothesis. the new drug is more effective\")\n",
    "else :\n",
    "    print(\"Fail to reject the null hypothesis. No significant difference in chalestoral level\")"
   ]
  },
  {
   "cell_type": "code",
   "execution_count": 69,
   "id": "8acf073f-8ad6-4682-a9a9-332d62da1d5a",
   "metadata": {},
   "outputs": [],
   "source": [
    "#17. A school district introduces an educational intervention program to improve math scores Write a Python\n",
    "# function to analyze pre- and post-intervention test scores, calculating the t-statistic and p-value to\n",
    "# determine if the intervention had a significant impact.\n",
    "\n",
    "\n",
    "# Use the followi3g data of test score:\n",
    "\n",
    "\n",
    "#```python\n",
    "\n",
    "pre_intervention_scores = [80, 85, 90, 75, 88, 82, 92, 78, 85, 87]\n",
    "\n",
    "post_intervention_scores = [90, 92, 88, 92, 95, 91, 96, 93, 89, 93]"
   ]
  },
  {
   "cell_type": "code",
   "execution_count": 70,
   "id": "d0f09c9c-edc0-4e7c-acd7-c868ea3405be",
   "metadata": {},
   "outputs": [
    {
     "name": "stdout",
     "output_type": "stream",
     "text": [
      "T-statistic: 4.4284\n",
      "P-value: 0.0008\n",
      "Reject the null hypothesis. The intervention had a significant impact on math scores.\n"
     ]
    }
   ],
   "source": [
    "import numpy as np\n",
    "from scipy.stats import ttest_rel\n",
    "\n",
    "pre_intervention_scores = [80, 85, 90, 75, 88, 82, 92, 78, 85, 87]\n",
    "post_intervention_scores = [90, 92, 88, 92, 95, 91, 96, 93, 89, 93]\n",
    "\n",
    "\n",
    "t_stat, p_value = ttest_rel(post_intervention_scores, pre_intervention_scores, alternative='greater')\n",
    "\n",
    "\n",
    "print(f\"T-statistic: {t_stat:.4f}\")\n",
    "print(f\"P-value: {p_value:.4f}\")\n",
    "\n",
    "alpha = 0.05\n",
    "\n",
    "if p_value < alpha:\n",
    "    print(\"Reject the null hypothesis. The intervention had a significant impact on math scores.\")\n",
    "else:\n",
    "    print(\"Fail to reject the null hypothesis. There is no significant impact of the intervention on math scores.\")"
   ]
  },
  {
   "cell_type": "code",
   "execution_count": 71,
   "id": "6a330797-bdfe-4435-8042-dabf03458cc6",
   "metadata": {},
   "outputs": [],
   "source": [
    "#18. An HR department wants to investigate i@ there's a gender-based salary gap within the company. Develop\n",
    "#a program to analyze salary data, calculate the t-statistic, and determine i@ there's a statistically\n",
    "#signi@icant di@@erence between the average salaries o@ male and @emale employees.\n",
    "\n",
    "\n",
    "#Use the below code to generate synthetic dataY\n",
    "#```python\n",
    "\n",
    "# Generate synthetic salary data for male and female employees\n",
    "\n",
    "#np.random.seed(0)  # For reproducibility\n",
    "\n",
    "#male_salaries = np.random.normal(loc=50000, scale=10000, size=20)\n",
    "\n",
    "#female_salaries = np.random.normal(loc=55000, scale=9000, size=20)"
   ]
  },
  {
   "cell_type": "code",
   "execution_count": 72,
   "id": "88564a89-3321-4965-b142-06733d9cdea1",
   "metadata": {},
   "outputs": [
    {
     "name": "stdout",
     "output_type": "stream",
     "text": [
      "T-statistic: 0.0611\n",
      "P-value: 0.9516\n",
      "Fail to reject the null hypothesis. There is no statistically significant difference between male and female salaries.\n"
     ]
    }
   ],
   "source": [
    "from scipy.stats import ttest_ind\n",
    "np.random.seed(0)  # For reproducibility\n",
    "male_salaries = np.random.normal(loc=50000, scale=10000, size=20)\n",
    "female_salaries = np.random.normal(loc=55000, scale=9000, size=20)\n",
    "\n",
    "t_stat, p_value = ttest_ind(male_salaries, female_salaries, alternative='two-sided')\n",
    "\n",
    "print(f\"T-statistic: {t_stat:.4f}\")\n",
    "print(f\"P-value: {p_value:.4f}\")\n",
    "\n",
    "alpha = 0.05\n",
    "\n",
    "if p_value < alpha:\n",
    "    print(\"Reject the null hypothesis. There is a statistically significant difference between male and female salaries.\")\n",
    "else:\n",
    "    print(\"Fail to reject the null hypothesis. There is no statistically significant difference between male and female salaries.\")"
   ]
  },
  {
   "cell_type": "code",
   "execution_count": 73,
   "id": "55cfc58d-99a9-4700-b576-c16d268f1786",
   "metadata": {},
   "outputs": [],
   "source": [
    "#19 .  A manufacturer produces two different versions of a product and wants to compare their quality scores.\n",
    "#Create a Python function to analyze quality assessment data, calculate the t-statistic, and decide\n",
    "# whether there's a significant difference in quality between the two versions.\n",
    "\n",
    "\n",
    "#Use the following dataY\n",
    "#```python\n",
    "\n",
    "version1_scores = [85, 88, 82, 89, 87, 84, 90, 88, 85, 86, 91, 83, 87, 84, 89, 86, 84, 88, 85, 86, 89, 90, 87, 88, 85]\n",
    "\n",
    "version2_scores = [80, 78, 83, 81, 79, 82, 76, 80, 78, 81, 77, 82, 80, 79, 82, 79, 80, 81, 79, 82, 79, 78, 80, 81 , 82]"
   ]
  },
  {
   "cell_type": "code",
   "execution_count": 74,
   "id": "48e91225-0c5a-4fec-8ba1-a38aae4dfe18",
   "metadata": {},
   "outputs": [
    {
     "name": "stdout",
     "output_type": "stream",
     "text": [
      "T-statistic: 11.3258\n",
      "P-value: 0.0000\n",
      "Reject the null hypothesis. There is a statistically significant difference in quality between the two versions.\n"
     ]
    }
   ],
   "source": [
    "from scipy.stats import ttest_ind\n",
    "\n",
    "version1_scores = [85, 88, 82, 89, 87, 84, 90, 88, 85, 86, 91, 83, 87, 84, 89, 86, 84, 88, 85, 86, 89, 90, 87, 88, 85]\n",
    "version2_scores = [80, 78, 83, 81, 79, 82, 76, 80, 78, 81, 77, 82, 80, 79, 82, 79, 80, 81, 79, 82, 79, 78, 80, 81 , 82]\n",
    "\n",
    "t_stat, p_value = ttest_ind(version1_scores, version2_scores)\n",
    "\n",
    "print(f\"T-statistic: {t_stat:.4f}\")\n",
    "print(f\"P-value: {p_value:.4f}\")\n",
    "\n",
    "alpha = 0.05\n",
    "\n",
    "if p_value < alpha:\n",
    "    print(\"Reject the null hypothesis. There is a statistically significant difference in quality between the two versions.\")\n",
    "else:\n",
    "    print(\"Fail to reject the null hypothesis. There is no statistically significant difference in quality between the two versions.\")"
   ]
  },
  {
   "cell_type": "code",
   "execution_count": 75,
   "id": "7c2c12d1-a825-463d-84e4-6bd60d010346",
   "metadata": {},
   "outputs": [],
   "source": [
    "# 20. A restaurant chain collects customer satisfaction scores for two different branches. Write a program to\n",
    "# analyze the scores, calculate the t-statistic, and determine if there's a statistically significant difference in\n",
    "# customer satisfaction between the branches.\n",
    "\n",
    "\n",
    "# Use the below data of scores:\n",
    "\n",
    "#  ```python\n",
    "\n",
    "# branch_a_scores = [4, 5, 3, 4, 5, 4, 5, 3, 4, 4, 5, 4, 4, 3, 4, 5, 5, 4, 3, 4, 5, 4, 3, 5, 4, 4, 5, 3, 4, 5, 4]\n",
    "\n",
    "#  branch_b_scores = [3, 4, 2, 3, 4, 3, 4, 2, 3, 3, 4, 3, 3, 2, 3, 4, 4, 3, 2, 3, 4, 3, 2, 4, 3, 3, 4, 2, 3, 4, 3]"
   ]
  },
  {
   "cell_type": "code",
   "execution_count": 76,
   "id": "bfd72be8-f4a3-43ec-be53-223c32e110a9",
   "metadata": {},
   "outputs": [
    {
     "name": "stdout",
     "output_type": "stream",
     "text": [
      "T-statistic: 5.4801\n",
      "P-value: 0.0000\n",
      "Reject the null hypothesis. There is a statistically significant difference in customer satisfaction between the branches.\n"
     ]
    }
   ],
   "source": [
    "from scipy.stats import ttest_ind\n",
    "\n",
    "branch_a_scores = [4, 5, 3, 4, 5, 4, 5, 3, 4, 4, 5, 4, 4, 3, 4, 5, 5, 4, 3, 4, 5, 4, 3, 5, 4, 4, 5, 3, 4, 5, 4]\n",
    "branch_b_scores = [3, 4, 2, 3, 4, 3, 4, 2, 3, 3, 4, 3, 3, 2, 3, 4, 4, 3, 2, 3, 4, 3, 2, 4, 3, 3, 4, 2, 3, 4, 3]\n",
    "\n",
    "t_stat, p_value = ttest_ind(branch_a_scores, branch_b_scores)\n",
    "\n",
    "print(f\"T-statistic: {t_stat:.4f}\")\n",
    "print(f\"P-value: {p_value:.4f}\")\n",
    "\n",
    "alpha = 0.05\n",
    "\n",
    "if p_value < alpha:\n",
    "    print(\"Reject the null hypothesis. There is a statistically significant difference in customer satisfaction between the branches.\")\n",
    "else:\n",
    "    print(\"Fail to reject the null hypothesis. There is no statistically significant difference in customer satisfaction between the branches.\")"
   ]
  },
  {
   "cell_type": "code",
   "execution_count": 77,
   "id": "a2a62095-6f89-4560-940e-0402fe243249",
   "metadata": {},
   "outputs": [],
   "source": [
    "#21 . A political analyst wants to determine if there is a significant association between age groups and voter\n",
    "#preferences (Candidate A or Candidate B). They collect data from a sample of 500 voters and classi@y\n",
    "# them into different age groups and candidate preferences. Perform a Chi-Square test to determine i@\n",
    "#there is a significant association between age groups and voter preferences.\n",
    "\n",
    "\n",
    "# Use the below code to generate data:\n",
    "\n",
    "# ```python\n",
    "\n",
    "#np.random.seed(0)\n",
    "\n",
    "#age_groups = np.random.choice([ 18 30 , 31 50 , 51+', 51+'], size=30)\n",
    "\n",
    "#voter_preferences = np.random.choice(['Candidate A', 'Candidate B'], size=30)"
   ]
  },
  {
   "cell_type": "code",
   "execution_count": 78,
   "id": "1d1b70be-20f9-45c9-985f-13ca5c4b1b08",
   "metadata": {},
   "outputs": [
    {
     "name": "stdout",
     "output_type": "stream",
     "text": [
      "Contingency Table:\n",
      "Voter Preference  Candidate A  Candidate B\n",
      "Age Group                                 \n",
      "18-30                      95           87\n",
      "31-50                      87           82\n",
      "51+                        84           65\n",
      "\n",
      "Chi-Square Statistic: 0.8780\n",
      "P-value: 0.6447\n",
      "Degrees of Freedom: 2\n",
      "Expected Frequencies:\n",
      "[[96.824 85.176]\n",
      " [89.908 79.092]\n",
      " [79.268 69.732]]\n",
      "\n",
      "Fail to reject the null hypothesis. There is no significant association between age groups and voter preferences.\n"
     ]
    }
   ],
   "source": [
    "from scipy.stats import chi2_contingency\n",
    "\n",
    "np.random.seed(0)\n",
    "age_groups = np.random.choice(['18-30', '31-50', '51+'], size=500)\n",
    "voter_preferences = np.random.choice(['Candidate A', 'Candidate B'], size=500)\n",
    "\n",
    "data = pd.DataFrame({'Age Group': age_groups, 'Voter Preference': voter_preferences})\n",
    "contingency_table = pd.crosstab(data['Age Group'], data['Voter Preference'])\n",
    "\n",
    "print(\"Contingency Table:\")\n",
    "print(contingency_table)\n",
    "\n",
    "chi2_stat, p_value, dof, expected = chi2_contingency(contingency_table)\n",
    "\n",
    "print(f\"\\nChi-Square Statistic: {chi2_stat:.4f}\")\n",
    "print(f\"P-value: {p_value:.4f}\")\n",
    "print(f\"Degrees of Freedom: {dof}\")\n",
    "print(\"Expected Frequencies:\")\n",
    "print(expected)\n",
    "\n",
    "alpha = 0.05\n",
    "\n",
    "if p_value < alpha:\n",
    "    print(\"\\nReject the null hypothesis. There is a significant association between age groups and voter preferences.\")\n",
    "else:\n",
    "    print(\"\\nFail to reject the null hypothesis. There is no significant association between age groups and voter preferences.\")"
   ]
  },
  {
   "cell_type": "code",
   "execution_count": 79,
   "id": "5f4422b7-682b-41ce-b69d-470eb1ebd2f4",
   "metadata": {},
   "outputs": [],
   "source": [
    "#22. A company conducted a customer satisfaction survey to determine if there is a significant relationship\n",
    "# between product satisfaction levels (Satisfied, Neutral, Dissatisfied) and the region where customers are\n",
    "# located (East, West, North, South). The survey data is summarized in a contingency table. Conduct a ChiSquare test to determine if there is a significant relationship between product satisfaction levels and\n",
    "# customer regions.\n",
    "\n",
    "\n",
    "# Sample data:\n",
    "\n",
    "#```python\n",
    "\n",
    "#Sample data: Product satisfaction levels (rows) vs. Customer regions (columns)\n",
    "\n",
    "#data = np.array([[50, 30, 40, 20], [30, 40, 30, 50], [20, 30, 40, 30]])"
   ]
  },
  {
   "cell_type": "code",
   "execution_count": 80,
   "id": "1f350f25-15f7-4ed0-a656-f2baeed687cb",
   "metadata": {},
   "outputs": [
    {
     "name": "stdout",
     "output_type": "stream",
     "text": [
      "Chi-Square Statistic: 27.7771\n",
      "P-value: 0.0001\n",
      "Degrees of Freedom: 6\n",
      "Expected Frequencies:\n",
      "[[34.14634146 34.14634146 37.56097561 34.14634146]\n",
      " [36.58536585 36.58536585 40.24390244 36.58536585]\n",
      " [29.26829268 29.26829268 32.19512195 29.26829268]]\n",
      "\n",
      "Reject the null hypothesis. There is a significant relationship between product satisfaction levels and customer regions.\n"
     ]
    }
   ],
   "source": [
    "from scipy.stats import chi2_contingency\n",
    "\n",
    "data = np.array([[50, 30, 40, 20],  # Satisfied\n",
    "                 [30, 40, 30, 50],  # Neutral\n",
    "                 [20, 30, 40, 30]]) # Dissatisfied\n",
    "\n",
    "chi2_stat, p_value, dof, expected = chi2_contingency(data)\n",
    "\n",
    "print(f\"Chi-Square Statistic: {chi2_stat:.4f}\")\n",
    "print(f\"P-value: {p_value:.4f}\")\n",
    "print(f\"Degrees of Freedom: {dof}\")\n",
    "print(\"Expected Frequencies:\")\n",
    "print(expected)\n",
    "\n",
    "alpha = 0.05\n",
    "\n",
    "if p_value < alpha:\n",
    "    print(\"\\nReject the null hypothesis. There is a significant relationship between product satisfaction levels and customer regions.\")\n",
    "else:\n",
    "    print(\"\\nFail to reject the null hypothesis. There is no significant relationship between product satisfaction levels and customer regions.\")"
   ]
  },
  {
   "cell_type": "code",
   "execution_count": 81,
   "id": "dcd82564-fea0-496a-8d4f-5a97e79f718c",
   "metadata": {},
   "outputs": [],
   "source": [
    "#23. A company implemented an employee training program to improve job performance (Effective, Neutral,\n",
    "#Ineffective). After the training, they collected data from a sample of employees and classified them based\n",
    "#on their job performance before and after the training. Perform a Chi-Square test to determine if there is a\n",
    "#significant difference between job performance levels before and after the training.\n",
    "\n",
    "\n",
    "#Sample data:\n",
    "\n",
    "#```python\n",
    "\n",
    "# Sample data: Job performance levels before (rows) and after (columns) training\n",
    "\n",
    "#data = np.array([[50, 30, 20], [30, 40, 30], [20, 30, 40]])"
   ]
  },
  {
   "cell_type": "code",
   "execution_count": 82,
   "id": "b7bd3a9e-cb79-4989-b9a6-93d029a1370d",
   "metadata": {},
   "outputs": [
    {
     "name": "stdout",
     "output_type": "stream",
     "text": [
      "Chi-Square Statistic: 22.1617\n",
      "P-value: 0.0002\n",
      "Degrees of Freedom: 4\n",
      "Expected Frequencies:\n",
      "[[34.48275862 34.48275862 31.03448276]\n",
      " [34.48275862 34.48275862 31.03448276]\n",
      " [31.03448276 31.03448276 27.93103448]]\n",
      "\n",
      "Reject the null hypothesis. There is a significant difference in job performance levels before and after training.\n"
     ]
    }
   ],
   "source": [
    "from scipy.stats import chi2_contingency\n",
    "\n",
    "data = np.array([[50, 30, 20],  # Effective before training\n",
    "                 [30, 40, 30],  # Neutral before training\n",
    "                 [20, 30, 40]]) # Ineffective before training\n",
    "\n",
    "chi2_stat, p_value, dof, expected = chi2_contingency(data)\n",
    "\n",
    "print(f\"Chi-Square Statistic: {chi2_stat:.4f}\")\n",
    "print(f\"P-value: {p_value:.4f}\")\n",
    "print(f\"Degrees of Freedom: {dof}\")\n",
    "print(\"Expected Frequencies:\")\n",
    "print(expected)\n",
    "\n",
    "alpha = 0.05\n",
    "\n",
    "if p_value < alpha:\n",
    "    print(\"\\nReject the null hypothesis. There is a significant difference in job performance levels before and after training.\")\n",
    "else:\n",
    "    print(\"\\nFail to reject the null hypothesis. There is no significant difference in job performance levels before and after training.\")"
   ]
  },
  {
   "cell_type": "code",
   "execution_count": 83,
   "id": "4cc12fdd-85b4-4e79-beaf-61432e95479d",
   "metadata": {},
   "outputs": [],
   "source": [
    "# 24. A company produces three different versions of a product: Standard, Premium, and Deluxe. The\n",
    "#company wants to determine if there is a significant difference in customer satisfaction scores among the\n",
    "#three product versions. They conducted a survey and collected customer satisfaction scores for each\n",
    "#version from a random sample of customers. Perform an ANOVA test to determine if there is a significant\n",
    "#difference in customer satisfaction scores.\n",
    "\n",
    "\n",
    " # Use the following data:\n",
    "\n",
    "  #```python\n",
    "\n",
    "  # Sample data: Customer satisfaction scores for each product version\n",
    "\n",
    "  #standard_scores = [80, 85, 90, 78, 88, 82, 92, 78, 85, 87]\n",
    "\n",
    "  #premium_scores = [90, 92, 88, 92, 95, 91, 96, 93, 89, 93]\n",
    "\n",
    "  #deluxe_scores = [95, 98, 92, 97, 96, 94, 98, 97, 92, 99]"
   ]
  },
  {
   "cell_type": "code",
   "execution_count": 84,
   "id": "29682c80-c212-4194-87a3-d827135f9e5c",
   "metadata": {},
   "outputs": [
    {
     "name": "stdout",
     "output_type": "stream",
     "text": [
      "F-statistic: 27.0356\n",
      "P-value: 0.0000\n",
      "Reject the null hypothesis. There is a significant difference in customer satisfaction scores among the product versions.\n"
     ]
    }
   ],
   "source": [
    "from scipy.stats import f_oneway\n",
    "\n",
    "standard_scores = [80, 85, 90, 78, 88, 82, 92, 78, 85, 87]\n",
    "premium_scores = [90, 92, 88, 92, 95, 91, 96, 93, 89, 93]\n",
    "deluxe_scores = [95, 98, 92, 97, 96, 94, 98, 97, 92, 99]\n",
    "\n",
    "f_stat, p_value = f_oneway(standard_scores, premium_scores, deluxe_scores)\n",
    "\n",
    "print(f\"F-statistic: {f_stat:.4f}\")\n",
    "print(f\"P-value: {p_value:.4f}\")\n",
    "\n",
    "alpha = 0.05\n",
    "\n",
    "if p_value < alpha:\n",
    "    print(\"Reject the null hypothesis. There is a significant difference in customer satisfaction scores among the product versions.\")\n",
    "else:\n",
    "    print(\"Fail to reject the null hypothesis. There is no significant difference in customer satisfaction scores among the product versions.\")"
   ]
  },
  {
   "cell_type": "code",
   "execution_count": null,
   "id": "964916b9-ea7d-4fe6-b10f-1946a0510144",
   "metadata": {},
   "outputs": [],
   "source": []
  }
 ],
 "metadata": {
  "kernelspec": {
   "display_name": "Python 3 (ipykernel)",
   "language": "python",
   "name": "python3"
  },
  "language_info": {
   "codemirror_mode": {
    "name": "ipython",
    "version": 3
   },
   "file_extension": ".py",
   "mimetype": "text/x-python",
   "name": "python",
   "nbconvert_exporter": "python",
   "pygments_lexer": "ipython3",
   "version": "3.10.8"
  }
 },
 "nbformat": 4,
 "nbformat_minor": 5
}
